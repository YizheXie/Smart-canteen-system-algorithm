{
 "cells": [
  {
   "cell_type": "code",
   "execution_count": null,
   "metadata": {},
   "outputs": [],
   "source": [
    "def dynamic_pricing(demand, supply, base_price, demand_threshold, max_increase=0.5, max_decrease=0.3, smoothing_factor=0.1):\n",
    "    \"\"\"\n",
    "    动态定价算法示例\n",
    "    :param demand: 预测的需求量\n",
    "    :param supply: 当前的供给量\n",
    "    :param base_price: 基础价格\n",
    "    :param demand_threshold: 需求阈值\n",
    "    :param max_increase: 最大价格上涨比例\n",
    "    :param max_decrease: 最大价格下降比例\n",
    "    :param smoothing_factor: 平滑因子，用于控制价格变动的速度\n",
    "    :return: 调整后的价格\n",
    "    \"\"\"\n",
    "    # 验证参数的有效性\n",
    "    if base_price <= 0 or supply < 0:\n",
    "        raise ValueError(\"Base price and supply must be positive.\")\n",
    "\n",
    "    # 计算需求和供给的比例\n",
    "    demand_supply_ratio = demand / supply if supply > 0 else float('inf')\n",
    "\n",
    "    if demand_supply_ratio > demand_threshold:  # 需求高于阈值\n",
    "        # 根据需求和供给比例调整价格，限制最大上涨幅度\n",
    "        price_change_ratio = min((demand_supply_ratio - demand_threshold) / demand_threshold, max_increase)\n",
    "        price_adjustment = price_change_ratio * base_price\n",
    "    else:\n",
    "        # 需求低于阈值，降低价格以吸引顾客，限制最大下降幅度\n",
    "        price_change_ratio = min((demand_threshold - demand_supply_ratio) / demand_threshold, max_decrease)\n",
    "        price_adjustment = -price_change_ratio * base_price\n",
    "\n",
    "    # 应用平滑因子\n",
    "    price_adjustment *= smoothing_factor\n",
    "\n",
    "    # 计算新价格并确保不低于成本的50%\n",
    "    new_price = max(base_price + price_adjustment, base_price * 0.5)\n",
    "\n",
    "    # 记录日志（可选）\n",
    "    # print(f\"New price calculated: {new_price}\")\n",
    "\n",
    "    return new_price\n",
    "\n",
    "# 示例使用\n",
    "new_price = dynamic_pricing(predicted_demand, current_supply, base_price, demand_threshold)"
   ]
  }
 ],
 "metadata": {
  "kernelspec": {
   "display_name": "base",
   "language": "python",
   "name": "python3"
  },
  "language_info": {
   "name": "python",
   "version": "3.11.5"
  }
 },
 "nbformat": 4,
 "nbformat_minor": 2
}
