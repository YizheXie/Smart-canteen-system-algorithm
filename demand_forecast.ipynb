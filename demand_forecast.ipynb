{
 "cells": [
  {
   "cell_type": "code",
   "execution_count": null,
   "metadata": {},
   "outputs": [],
   "source": [
    "#注意，应该先下载好pandas，numpy等\n",
    "import pandas as pd\n",
    "import numpy as np\n",
    "from sklearn.ensemble import RandomForestRegressor\n",
    "from sklearn.model_selection import TimeSeriesSplit\n",
    "from sklearn.metrics import mean_squared_error\n",
    "import pmdarima as pm\n",
    "from sklearn.preprocessing import StandardScaler\n",
    "\n",
    "# 加载数据，读取到你的csv文件\n",
    "#请注意，your_data是你的文件名\n",
    "# df = pd.read_csv('your_data.csv')\n",
    "\n",
    "# 数据预处理\n",
    "# 示例：将日期时间分解为多个特征，你也可以用别的方法\n",
    "df['timestamp'] = pd.to_datetime(df['date'] + ' ' + df['time'])\n",
    "df['day'] = df['timestamp'].dt.day\n",
    "df['month'] = df['timestamp'].dt.month\n",
    "df['dayofweek'] = df['timestamp'].dt.dayofweek\n",
    "df['hour'] = df['timestamp'].dt.hour\n",
    "\n",
    "# 标准化特征\n",
    "scaler = StandardScaler()\n",
    "scaled_features = scaler.fit_transform(df[['day', 'month', 'dayofweek', 'hour']])\n",
    "\n",
    "# 构建随机森林模型\n",
    "rf_model = RandomForestRegressor(n_estimators=100)\n",
    "rf_model.fit(scaled_features, df['customer_count'])\n",
    "\n",
    "# 构建ARIMA模型\n",
    "arima_model = pm.auto_arima(df['customer_count'], seasonal=True, m=12)\n",
    "\n",
    "# 模型融合\n",
    "def ensemble_predict(arima_model, rf_model, features, n_periods):\n",
    "    arima_forecast = arima_model.predict(n_periods=n_periods)\n",
    "    rf_forecast = rf_model.predict(features[-n_periods:])\n",
    "    return (arima_forecast + rf_forecast) / 2\n",
    "\n",
    "# 预测未来值\n",
    "n_periods = 30  # 预测未来30个时间点，你也可以进行更改。\n",
    "future_features = scaler.transform(df[['day', 'month', 'dayofweek', 'hour']].tail(n_periods))\n",
    "df['forecast'] = ensemble_predict(arima_model, rf_model, future_features, n_periods)\n"
   ]
  }
 ],
 "metadata": {
  "kernelspec": {
   "display_name": "base",
   "language": "python",
   "name": "python3"
  },
  "language_info": {
   "name": "python",
   "version": "3.11.5"
  }
 },
 "nbformat": 4,
 "nbformat_minor": 2
}
