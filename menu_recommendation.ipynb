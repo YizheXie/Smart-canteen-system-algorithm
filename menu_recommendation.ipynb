{
 "cells": [
  {
   "cell_type": "code",
   "execution_count": null,
   "metadata": {},
   "outputs": [],
   "source": [
    "#跟上面是一块的，只不过我分开写了\n",
    "from sklearn.cluster import KMeans\n",
    "from sklearn.preprocessing import StandardScaler\n",
    "import pandas as pd\n",
    "import numpy as np\n",
    "\n",
    "# 示例数据（需要根据实际情况替换）\n",
    "data = {\n",
    "    'user_id': np.random.randint(1, 100, 1000),\n",
    "    'dish_id': np.random.randint(1, 500, 1000),\n",
    "    'rating': np.random.rand(1000) * 5  # 假设评分范围是0到5\n",
    "}\n",
    "df = pd.DataFrame(data)\n",
    "\n",
    "# 数据预处理\n",
    "# 特征标准化（假设数据已经清洗好），清理方法的话，上文已经提过了。\n",
    "scaler = StandardScaler()\n",
    "df_scaled = scaler.fit_transform(df[['user_id', 'dish_id', 'rating']])\n",
    "\n",
    "# 使用肘部法则确定最佳聚类数（这里为简化直接选择了10）\n",
    "kmeans = KMeans(n_clusters=10, random_state=42)\n",
    "df['cluster'] = kmeans.fit_predict(df_scaled)\n",
    "\n",
    "# 推荐函数\n",
    "def recommend(user_id, df):\n",
    "    # 找到用户的聚类\n",
    "    cluster = df.loc[df['user_id'] == user_id, 'cluster'].iloc[0]\n",
    "    \n",
    "    # 获取该聚类中的其他用户\n",
    "    similar_users = df[df['cluster'] == cluster]['user_id'].unique()\n",
    "    \n",
    "    # 获取这些用户喜欢的菜品及评分\n",
    "    similar_users_preferences = df[df['user_id'].isin(similar_users)]\n",
    "    \n",
    "    # 推荐评分最高的菜品\n",
    "    recommended_dishes = similar_users_preferences.groupby('dish_id').agg({'rating':'mean'}).reset_index()\n",
    "    recommended_dishes = recommended_dishes.sort_values('rating', ascending=False)\n",
    "    \n",
    "    return recommended_dishes['dish_id'].tolist()\n",
    "\n",
    "# 使用示例\n",
    "some_user_id = 25  # 假设的用户ID\n",
    "user_recommendations = recommend(some_user_id, df)\n",
    "print(user_recommendations)"
   ]
  }
 ],
 "metadata": {
  "kernelspec": {
   "display_name": "base",
   "language": "python",
   "name": "python3"
  },
  "language_info": {
   "name": "python",
   "version": "3.11.5"
  }
 },
 "nbformat": 4,
 "nbformat_minor": 2
}
